{
  "nbformat": 4,
  "nbformat_minor": 0,
  "metadata": {
    "colab": {
      "provenance": []
    },
    "kernelspec": {
      "name": "python3",
      "display_name": "Python 3"
    },
    "language_info": {
      "name": "python"
    }
  },
  "cells": [
    {
      "cell_type": "markdown",
      "source": [
        "#Exame Prático: Spectrum Shades LLC\n",
        "\n",
        "A Spectrum Shades LLC é uma fornecedora de soluções de coloração para concreto, oferecendo uma ampla variedade de pigmentos e sistemas de coloração utilizados em diversas aplicações, como concreto decorativo, pré-moldado e blocos de concreto. A empresa se orgulha de fornecer colorantes de alta qualidade que atendem às necessidades específicas de seus variados clientes, incluindo empreiteiros, arquitetos e construtoras.\n",
        "\n",
        "\n",
        "Recentemente, a empresa observou um aumento no número de reclamações de clientes relacionadas à inconsistência na qualidade das cores de seus produtos. Essas discrepâncias têm levado à queda na satisfação dos clientes e ao possível aumento nas devoluções de produtos.\n",
        "\n",
        "Ao identificar e mitigar os fatores que causam variações de cor, a empresa pode melhorar a confiabilidade dos produtos, reduzir reclamações e minimizar as taxas de devolução.\n",
        "\n",
        "\n",
        "Você faz parte da equipe de análise de dados encarregada de fornecer insights acionáveis para ajudar a Spectrum Shades LLC a resolver os problemas de inconsistência na coloração e aumentar a satisfação dos clientes."
      ],
      "metadata": {
        "id": "pnOxMjWjrDV2"
      }
    },
    {
      "cell_type": "markdown",
      "source": [
        "#Tarefa 1: Validação e Limpeza de Dados\n",
        "\n",
        "Antes de iniciar qualquer análise, é necessário garantir que os dados estão corretos e condizem com o esperado.\n",
        "\n",
        "Sabe-se que há alguns problemas na tabela production_data, e a equipe de dados forneceu a seguinte descrição dos dados.\n",
        "\n",
        "🎯 Escreva uma consulta para garantir que os dados correspondem à descrição fornecida, incluindo a identificação e correção de todos os valores inválidos. É obrigatório seguir os nomes das colunas e os critérios descritos abaixo.\n",
        "\n",
        "*   O ponto de partida é o arquivo \"production_data.csv\".\n",
        "*   O resultado final deve ser um DataFrame chamado clean_data.\n",
        "*   Todos os nomes de colunas e valores devem obedecer às regras da tabela a seguir:\n",
        "\n",
        "| Nome da Coluna          | Critério                                                                                                                                                                    |\n",
        "| ----------------------- | --------------------------------------------------------------------------------------------------------------------------------------------------------------------------- |\n",
        "| `batch_id`              | Discreto. Identificador de cada lote. **Não pode haver valores ausentes.**                                                                                                  |\n",
        "| `production_date`       | Data. Data em que o lote foi produzido.                                                                                                                                     |\n",
        "| `raw_material_supplier` | Categórico. Fornecedor da matéria-prima. (1 = `'national_supplier'`, 2 = `'international_supplier'`).<br>Valores ausentes devem ser substituídos por `'national_supplier'`. |\n",
        "| `pigment_type`          | Nominal. Tipo de pigmento utilizado. Valores válidos: `['type_a', 'type_b', 'type_c']`. <br>Valores ausentes devem ser substituídos por `'other'`.                          |\n",
        "| `pigment_quantity`      | Contínuo. Quantidade de pigmento adicionada (em kg). Intervalo válido: **1 a 100**.<br>Valores ausentes devem ser substituídos pela **mediana**.                            |\n",
        "| `mixing_time`           | Contínuo. Duração do processo de mistura (em minutos). <br>Valores ausentes devem ser substituídos pela **média**, **arredondada para 2 casas decimais**.                   |\n",
        "| `mixing_speed`          | Categórico. Velocidade do processo de mistura: `'Low'`, `'Medium'`, `'High'`. <br>Valores ausentes devem ser substituídos por `'Not Specified'`.                            |\n",
        "| `product_quality_score` | Contínuo. Nota geral da qualidade do produto final (escala de 1 a 10).<br>Valores ausentes devem ser substituídos pela **média**, **arredondada para 2 casas decimais**.    |\n"
      ],
      "metadata": {
        "id": "x9SveB0drKm3"
      }
    },
    {
      "cell_type": "code",
      "source": [
        "import pandas as pd\n",
        "from IPython.display import display\n",
        "\n",
        "# Carregando o dataset\n",
        "clean_data = pd.read_csv('production_data.csv')\n",
        "\n",
        "# Preenchendo valores ausentes com regras definidas\n",
        "clean_data['raw_material_supplier'] = clean_data['raw_material_supplier'].fillna('national_supplier')\n",
        "clean_data['pigment_type'] = clean_data['pigment_type'].fillna('other')\n",
        "\n",
        "median_pigment_quantity = clean_data['pigment_quantity'].median()\n",
        "clean_data['pigment_quantity'] = clean_data['pigment_quantity'].fillna(median_pigment_quantity)\n",
        "\n",
        "mean_mixing_time = clean_data['mixing_time'].mean()\n",
        "clean_data['mixing_time'] = clean_data['mixing_time'].fillna(round(mean_mixing_time, 2))\n",
        "\n",
        "clean_data['mixing_speed'] = clean_data['mixing_speed'].fillna('Not Specified')\n",
        "\n",
        "mean_quality_score = clean_data['product_quality_score'].mean()\n",
        "clean_data['product_quality_score'] = clean_data['product_quality_score'].fillna(round(mean_quality_score, 2))\n",
        "\n",
        "# Conversão de tipos\n",
        "clean_data['production_date'] = pd.to_datetime(clean_data['production_date'])\n",
        "\n",
        "# Normalização de texto\n",
        "clean_data['pigment_type'] = clean_data['pigment_type'].str.lower()\n",
        "clean_data['mixing_speed'] = clean_data['mixing_speed'].replace('-', 'Not Specified')\n",
        "\n",
        "# Mostrar resultado final formatado\n",
        "pd.set_option('display.max_columns', None)\n",
        "\n",
        "display(clean_data.head(10).style\n",
        "        .format({\n",
        "            'pigment_quantity': '{:.2f}',\n",
        "            'mixing_time': '{:.2f}',\n",
        "            'product_quality_score': '{:.2f}'\n",
        "        })\n",
        "        .set_caption(\"✅ Primeiras 10 Linhas do DataFrame `clean_data` (após limpeza)\"))\n"
      ],
      "metadata": {
        "colab": {
          "base_uri": "https://localhost:8080/",
          "height": 344
        },
        "id": "ttFtliISvxMU",
        "outputId": "a84ce3db-cab8-4e85-97b1-df5fff2f2de0"
      },
      "execution_count": 6,
      "outputs": [
        {
          "output_type": "display_data",
          "data": {
            "text/plain": [
              "<pandas.io.formats.style.Styler at 0x7f3304cc7810>"
            ],
            "text/html": [
              "<style type=\"text/css\">\n",
              "</style>\n",
              "<table id=\"T_f6e8e\" class=\"dataframe\">\n",
              "  <caption>✅ Primeiras 10 Linhas do DataFrame `clean_data` (após limpeza)</caption>\n",
              "  <thead>\n",
              "    <tr>\n",
              "      <th class=\"blank level0\" >&nbsp;</th>\n",
              "      <th id=\"T_f6e8e_level0_col0\" class=\"col_heading level0 col0\" >batch_id</th>\n",
              "      <th id=\"T_f6e8e_level0_col1\" class=\"col_heading level0 col1\" >production_date</th>\n",
              "      <th id=\"T_f6e8e_level0_col2\" class=\"col_heading level0 col2\" >raw_material_supplier</th>\n",
              "      <th id=\"T_f6e8e_level0_col3\" class=\"col_heading level0 col3\" >pigment_type</th>\n",
              "      <th id=\"T_f6e8e_level0_col4\" class=\"col_heading level0 col4\" >pigment_quantity</th>\n",
              "      <th id=\"T_f6e8e_level0_col5\" class=\"col_heading level0 col5\" >mixing_time</th>\n",
              "      <th id=\"T_f6e8e_level0_col6\" class=\"col_heading level0 col6\" >mixing_speed</th>\n",
              "      <th id=\"T_f6e8e_level0_col7\" class=\"col_heading level0 col7\" >product_quality_score</th>\n",
              "    </tr>\n",
              "  </thead>\n",
              "  <tbody>\n",
              "    <tr>\n",
              "      <th id=\"T_f6e8e_level0_row0\" class=\"row_heading level0 row0\" >0</th>\n",
              "      <td id=\"T_f6e8e_row0_col0\" class=\"data row0 col0\" >1</td>\n",
              "      <td id=\"T_f6e8e_row0_col1\" class=\"data row0 col1\" >2024-06-25 00:00:00</td>\n",
              "      <td id=\"T_f6e8e_row0_col2\" class=\"data row0 col2\" >1</td>\n",
              "      <td id=\"T_f6e8e_row0_col3\" class=\"data row0 col3\" >type_a</td>\n",
              "      <td id=\"T_f6e8e_row0_col4\" class=\"data row0 col4\" >42.82</td>\n",
              "      <td id=\"T_f6e8e_row0_col5\" class=\"data row0 col5\" >22.56</td>\n",
              "      <td id=\"T_f6e8e_row0_col6\" class=\"data row0 col6\" >High</td>\n",
              "      <td id=\"T_f6e8e_row0_col7\" class=\"data row0 col7\" >7.17</td>\n",
              "    </tr>\n",
              "    <tr>\n",
              "      <th id=\"T_f6e8e_level0_row1\" class=\"row_heading level0 row1\" >1</th>\n",
              "      <td id=\"T_f6e8e_row1_col0\" class=\"data row1 col0\" >2</td>\n",
              "      <td id=\"T_f6e8e_row1_col1\" class=\"data row1 col1\" >2023-11-23 00:00:00</td>\n",
              "      <td id=\"T_f6e8e_row1_col2\" class=\"data row1 col2\" >2</td>\n",
              "      <td id=\"T_f6e8e_row1_col3\" class=\"data row1 col3\" >type_b</td>\n",
              "      <td id=\"T_f6e8e_row1_col4\" class=\"data row1 col4\" >42.87</td>\n",
              "      <td id=\"T_f6e8e_row1_col5\" class=\"data row1 col5\" >44.97</td>\n",
              "      <td id=\"T_f6e8e_row1_col6\" class=\"data row1 col6\" >High</td>\n",
              "      <td id=\"T_f6e8e_row1_col7\" class=\"data row1 col7\" >6.85</td>\n",
              "    </tr>\n",
              "    <tr>\n",
              "      <th id=\"T_f6e8e_level0_row2\" class=\"row_heading level0 row2\" >2</th>\n",
              "      <td id=\"T_f6e8e_row2_col0\" class=\"data row2 col0\" >3</td>\n",
              "      <td id=\"T_f6e8e_row2_col1\" class=\"data row2 col1\" >2024-02-18 00:00:00</td>\n",
              "      <td id=\"T_f6e8e_row2_col2\" class=\"data row2 col2\" >2</td>\n",
              "      <td id=\"T_f6e8e_row2_col3\" class=\"data row2 col3\" >type_b</td>\n",
              "      <td id=\"T_f6e8e_row2_col4\" class=\"data row2 col4\" >33.25</td>\n",
              "      <td id=\"T_f6e8e_row2_col5\" class=\"data row2 col5\" >52.62</td>\n",
              "      <td id=\"T_f6e8e_row2_col6\" class=\"data row2 col6\" >High</td>\n",
              "      <td id=\"T_f6e8e_row2_col7\" class=\"data row2 col7\" >5.66</td>\n",
              "    </tr>\n",
              "    <tr>\n",
              "      <th id=\"T_f6e8e_level0_row3\" class=\"row_heading level0 row3\" >3</th>\n",
              "      <td id=\"T_f6e8e_row3_col0\" class=\"data row3 col0\" >4</td>\n",
              "      <td id=\"T_f6e8e_row3_col1\" class=\"data row3 col1\" >2023-11-11 00:00:00</td>\n",
              "      <td id=\"T_f6e8e_row3_col2\" class=\"data row3 col2\" >1</td>\n",
              "      <td id=\"T_f6e8e_row3_col3\" class=\"data row3 col3\" >type_a</td>\n",
              "      <td id=\"T_f6e8e_row3_col4\" class=\"data row3 col4\" >52.53</td>\n",
              "      <td id=\"T_f6e8e_row3_col5\" class=\"data row3 col5\" >24.96</td>\n",
              "      <td id=\"T_f6e8e_row3_col6\" class=\"data row3 col6\" >High</td>\n",
              "      <td id=\"T_f6e8e_row3_col7\" class=\"data row3 col7\" >6.99</td>\n",
              "    </tr>\n",
              "    <tr>\n",
              "      <th id=\"T_f6e8e_level0_row4\" class=\"row_heading level0 row4\" >4</th>\n",
              "      <td id=\"T_f6e8e_row4_col0\" class=\"data row4 col0\" >5</td>\n",
              "      <td id=\"T_f6e8e_row4_col1\" class=\"data row4 col1\" >2024-04-11 00:00:00</td>\n",
              "      <td id=\"T_f6e8e_row4_col2\" class=\"data row4 col2\" >2</td>\n",
              "      <td id=\"T_f6e8e_row4_col3\" class=\"data row4 col3\" >type_c</td>\n",
              "      <td id=\"T_f6e8e_row4_col4\" class=\"data row4 col4\" >36.21</td>\n",
              "      <td id=\"T_f6e8e_row4_col5\" class=\"data row4 col5\" >25.37</td>\n",
              "      <td id=\"T_f6e8e_row4_col6\" class=\"data row4 col6\" >High</td>\n",
              "      <td id=\"T_f6e8e_row4_col7\" class=\"data row4 col7\" >7.10</td>\n",
              "    </tr>\n",
              "    <tr>\n",
              "      <th id=\"T_f6e8e_level0_row5\" class=\"row_heading level0 row5\" >5</th>\n",
              "      <td id=\"T_f6e8e_row5_col0\" class=\"data row5 col0\" >6</td>\n",
              "      <td id=\"T_f6e8e_row5_col1\" class=\"data row5 col1\" >2024-02-14 00:00:00</td>\n",
              "      <td id=\"T_f6e8e_row5_col2\" class=\"data row5 col2\" >2</td>\n",
              "      <td id=\"T_f6e8e_row5_col3\" class=\"data row5 col3\" >type_b</td>\n",
              "      <td id=\"T_f6e8e_row5_col4\" class=\"data row5 col4\" >29.99</td>\n",
              "      <td id=\"T_f6e8e_row5_col5\" class=\"data row5 col5\" >45.96</td>\n",
              "      <td id=\"T_f6e8e_row5_col6\" class=\"data row5 col6\" >Medium</td>\n",
              "      <td id=\"T_f6e8e_row5_col7\" class=\"data row5 col7\" >6.14</td>\n",
              "    </tr>\n",
              "    <tr>\n",
              "      <th id=\"T_f6e8e_level0_row6\" class=\"row_heading level0 row6\" >6</th>\n",
              "      <td id=\"T_f6e8e_row6_col0\" class=\"data row6 col0\" >7</td>\n",
              "      <td id=\"T_f6e8e_row6_col1\" class=\"data row6 col1\" >2023-08-25 00:00:00</td>\n",
              "      <td id=\"T_f6e8e_row6_col2\" class=\"data row6 col2\" >2</td>\n",
              "      <td id=\"T_f6e8e_row6_col3\" class=\"data row6 col3\" >type_a</td>\n",
              "      <td id=\"T_f6e8e_row6_col4\" class=\"data row6 col4\" >35.94</td>\n",
              "      <td id=\"T_f6e8e_row6_col5\" class=\"data row6 col5\" >32.13</td>\n",
              "      <td id=\"T_f6e8e_row6_col6\" class=\"data row6 col6\" >High</td>\n",
              "      <td id=\"T_f6e8e_row6_col7\" class=\"data row6 col7\" >5.74</td>\n",
              "    </tr>\n",
              "    <tr>\n",
              "      <th id=\"T_f6e8e_level0_row7\" class=\"row_heading level0 row7\" >7</th>\n",
              "      <td id=\"T_f6e8e_row7_col0\" class=\"data row7 col0\" >8</td>\n",
              "      <td id=\"T_f6e8e_row7_col1\" class=\"data row7 col1\" >2024-04-26 00:00:00</td>\n",
              "      <td id=\"T_f6e8e_row7_col2\" class=\"data row7 col2\" >2</td>\n",
              "      <td id=\"T_f6e8e_row7_col3\" class=\"data row7 col3\" >type_a</td>\n",
              "      <td id=\"T_f6e8e_row7_col4\" class=\"data row7 col4\" >40.50</td>\n",
              "      <td id=\"T_f6e8e_row7_col5\" class=\"data row7 col5\" >7.75</td>\n",
              "      <td id=\"T_f6e8e_row7_col6\" class=\"data row7 col6\" >Medium</td>\n",
              "      <td id=\"T_f6e8e_row7_col7\" class=\"data row7 col7\" >5.51</td>\n",
              "    </tr>\n",
              "    <tr>\n",
              "      <th id=\"T_f6e8e_level0_row8\" class=\"row_heading level0 row8\" >8</th>\n",
              "      <td id=\"T_f6e8e_row8_col0\" class=\"data row8 col0\" >9</td>\n",
              "      <td id=\"T_f6e8e_row8_col1\" class=\"data row8 col1\" >2024-07-06 00:00:00</td>\n",
              "      <td id=\"T_f6e8e_row8_col2\" class=\"data row8 col2\" >2</td>\n",
              "      <td id=\"T_f6e8e_row8_col3\" class=\"data row8 col3\" >type_a</td>\n",
              "      <td id=\"T_f6e8e_row8_col4\" class=\"data row8 col4\" >36.02</td>\n",
              "      <td id=\"T_f6e8e_row8_col5\" class=\"data row8 col5\" >35.28</td>\n",
              "      <td id=\"T_f6e8e_row8_col6\" class=\"data row8 col6\" >Low</td>\n",
              "      <td id=\"T_f6e8e_row8_col7\" class=\"data row8 col7\" >4.96</td>\n",
              "    </tr>\n",
              "    <tr>\n",
              "      <th id=\"T_f6e8e_level0_row9\" class=\"row_heading level0 row9\" >9</th>\n",
              "      <td id=\"T_f6e8e_row9_col0\" class=\"data row9 col0\" >10</td>\n",
              "      <td id=\"T_f6e8e_row9_col1\" class=\"data row9 col1\" >2023-11-21 00:00:00</td>\n",
              "      <td id=\"T_f6e8e_row9_col2\" class=\"data row9 col2\" >1</td>\n",
              "      <td id=\"T_f6e8e_row9_col3\" class=\"data row9 col3\" >type_a</td>\n",
              "      <td id=\"T_f6e8e_row9_col4\" class=\"data row9 col4\" >42.89</td>\n",
              "      <td id=\"T_f6e8e_row9_col5\" class=\"data row9 col5\" >18.61</td>\n",
              "      <td id=\"T_f6e8e_row9_col6\" class=\"data row9 col6\" >High</td>\n",
              "      <td id=\"T_f6e8e_row9_col7\" class=\"data row9 col7\" >9.88</td>\n",
              "    </tr>\n",
              "  </tbody>\n",
              "</table>\n"
            ]
          },
          "metadata": {}
        }
      ]
    },
    {
      "cell_type": "markdown",
      "source": [
        "# Tarefa 2: Agrupamento por Fornecedor\n",
        "\n",
        "Você quer entender como o tipo de fornecedor e a quantidade de materiais influenciam os atributos do produto final.\n",
        "\n",
        "🎯 Calcule a média do product_quality_score e da pigment_quantity, agrupando pelos valores de raw_material_supplier.\n",
        "\n",
        "*   Você deve utilizar os dados do arquivo production_data.csv.\n",
        "*   O resultado deve ser um DataFrame chamado aggregated_data.\n",
        "*   O DataFrame final deve conter três colunas: raw_material_supplier, avg_product_quality_score, avg_pigment_quantity\n",
        "*   Os valores devem ser arredondados para 2 casas decimais.\n",
        "\n",
        "    "
      ],
      "metadata": {
        "id": "Yxp-ePvKr5FR"
      }
    },
    {
      "cell_type": "code",
      "source": [
        "# Agrupar por 'raw_material_supplier' e calcular médias\n",
        "aggregated_data = clean_data.groupby('raw_material_supplier')[['product_quality_score', 'pigment_quantity']].mean().reset_index()\n",
        "\n",
        "# Renomear colunas conforme especificado\n",
        "aggregated_data.rename(columns={\n",
        "    'product_quality_score': 'avg_product_quality_score',\n",
        "    'pigment_quantity': 'avg_pigment_quantity'\n",
        "}, inplace=True)\n",
        "\n",
        "# Arredondar para 2 casas decimais\n",
        "aggregated_data['avg_product_quality_score'] = aggregated_data['avg_product_quality_score'].round(2)\n",
        "aggregated_data['avg_pigment_quantity'] = aggregated_data['avg_pigment_quantity'].round(2)\n",
        "\n",
        "# Exibir resultado de forma amigável\n",
        "from IPython.display import display\n",
        "\n",
        "display(aggregated_data.style\n",
        "        .format({'avg_product_quality_score': '{:.2f}', 'avg_pigment_quantity': '{:.2f}'})\n",
        "        .set_caption(\"📊 Médias por Tipo de Fornecedor\"))\n"
      ],
      "metadata": {
        "colab": {
          "base_uri": "https://localhost:8080/",
          "height": 118
        },
        "id": "0ZDNqvSJwI3K",
        "outputId": "738555f0-1425-49aa-c94c-6d5f3e7f8d1d"
      },
      "execution_count": 8,
      "outputs": [
        {
          "output_type": "display_data",
          "data": {
            "text/plain": [
              "<pandas.io.formats.style.Styler at 0x7f330261c190>"
            ],
            "text/html": [
              "<style type=\"text/css\">\n",
              "</style>\n",
              "<table id=\"T_b64b7\" class=\"dataframe\">\n",
              "  <caption>📊 Médias por Tipo de Fornecedor</caption>\n",
              "  <thead>\n",
              "    <tr>\n",
              "      <th class=\"blank level0\" >&nbsp;</th>\n",
              "      <th id=\"T_b64b7_level0_col0\" class=\"col_heading level0 col0\" >raw_material_supplier</th>\n",
              "      <th id=\"T_b64b7_level0_col1\" class=\"col_heading level0 col1\" >avg_product_quality_score</th>\n",
              "      <th id=\"T_b64b7_level0_col2\" class=\"col_heading level0 col2\" >avg_pigment_quantity</th>\n",
              "    </tr>\n",
              "  </thead>\n",
              "  <tbody>\n",
              "    <tr>\n",
              "      <th id=\"T_b64b7_level0_row0\" class=\"row_heading level0 row0\" >0</th>\n",
              "      <td id=\"T_b64b7_row0_col0\" class=\"data row0 col0\" >1</td>\n",
              "      <td id=\"T_b64b7_row0_col1\" class=\"data row0 col1\" >8.02</td>\n",
              "      <td id=\"T_b64b7_row0_col2\" class=\"data row0 col2\" >44.73</td>\n",
              "    </tr>\n",
              "    <tr>\n",
              "      <th id=\"T_b64b7_level0_row1\" class=\"row_heading level0 row1\" >1</th>\n",
              "      <td id=\"T_b64b7_row1_col0\" class=\"data row1 col0\" >2</td>\n",
              "      <td id=\"T_b64b7_row1_col1\" class=\"data row1 col1\" >5.97</td>\n",
              "      <td id=\"T_b64b7_row1_col2\" class=\"data row1 col2\" >34.91</td>\n",
              "    </tr>\n",
              "  </tbody>\n",
              "</table>\n"
            ]
          },
          "metadata": {}
        }
      ]
    },
    {
      "cell_type": "markdown",
      "source": [
        "#Tarefa 3: Filtro por Fornecedor e Quantidade de Pigmento\n",
        "\n",
        "Para entender melhor os fatores que influenciam a qualidade do produto, você quer filtrar os dados para visualizar a média da pontuação de qualidade em um conjunto específico de registros.\n",
        "\n",
        "🎯 Identifique a média do product_quality_score para os lotes que possuem:\n",
        "\n",
        "*   raw_material_supplier igual a 2 (ou seja, fornecedor internacional)\n",
        "*   pigment_quantity maior que 35 kg\n",
        "\n",
        "🎯 Utilize os dados originais do arquivo production_data.csv, e não o resultado da Tarefa 2.\n",
        "\n",
        "*   O resultado deve ser um DataFrame chamado pigment_data\n",
        "*   Ele deve conter apenas 1 linha e 3 colunas: raw_material_supplier, pigment_quantity, avg_product_quality_score\n",
        "*   Os valores devem ser arredondados para 2 casas decimais, quando apropriado.\n",
        "\n",
        "\n",
        "\n",
        "\n",
        "\n",
        "    \n",
        "\n",
        "\n",
        "\n",
        "    "
      ],
      "metadata": {
        "id": "P-k7lRsMsZ-5"
      }
    },
    {
      "cell_type": "code",
      "source": [
        "# Filtrar dados com fornecedor internacional e pigmento > 35 kg\n",
        "filtered_data = clean_data[(clean_data['raw_material_supplier'] == 2) & (clean_data['pigment_quantity'] > 35)]\n",
        "\n",
        "# Calcular médias\n",
        "avg_quality = filtered_data['product_quality_score'].mean()\n",
        "avg_quantity = filtered_data['pigment_quantity'].mean()\n",
        "\n",
        "# Criar DataFrame formatado\n",
        "pigment_data = pd.DataFrame({\n",
        "    'raw_material_supplier': [2],\n",
        "    'pigment_quantity': [round(avg_quantity, 2)],\n",
        "    'avg_product_quality_score': [round(avg_quality, 2)]\n",
        "})\n",
        "\n",
        "# Exibir resultado de forma bonita\n",
        "from IPython.display import display\n",
        "\n",
        "display(pigment_data.style\n",
        "        .format({\n",
        "            'pigment_quantity': '{:.2f}',\n",
        "            'avg_product_quality_score': '{:.2f}'\n",
        "        })\n",
        "        .set_caption(\"🔍 Lotes com Fornecedor Internacional e Pigmento > 35 kg\"))\n"
      ],
      "metadata": {
        "colab": {
          "base_uri": "https://localhost:8080/",
          "height": 90
        },
        "id": "FCYnWyEqwY5p",
        "outputId": "5919fff6-2b86-4c5d-eb2c-700f244c64c1"
      },
      "execution_count": 10,
      "outputs": [
        {
          "output_type": "display_data",
          "data": {
            "text/plain": [
              "<pandas.io.formats.style.Styler at 0x7f3301d81a50>"
            ],
            "text/html": [
              "<style type=\"text/css\">\n",
              "</style>\n",
              "<table id=\"T_a11b0\" class=\"dataframe\">\n",
              "  <caption>🔍 Lotes com Fornecedor Internacional e Pigmento > 35 kg</caption>\n",
              "  <thead>\n",
              "    <tr>\n",
              "      <th class=\"blank level0\" >&nbsp;</th>\n",
              "      <th id=\"T_a11b0_level0_col0\" class=\"col_heading level0 col0\" >raw_material_supplier</th>\n",
              "      <th id=\"T_a11b0_level0_col1\" class=\"col_heading level0 col1\" >pigment_quantity</th>\n",
              "      <th id=\"T_a11b0_level0_col2\" class=\"col_heading level0 col2\" >avg_product_quality_score</th>\n",
              "    </tr>\n",
              "  </thead>\n",
              "  <tbody>\n",
              "    <tr>\n",
              "      <th id=\"T_a11b0_level0_row0\" class=\"row_heading level0 row0\" >0</th>\n",
              "      <td id=\"T_a11b0_row0_col0\" class=\"data row0 col0\" >2</td>\n",
              "      <td id=\"T_a11b0_row0_col1\" class=\"data row0 col1\" >39.01</td>\n",
              "      <td id=\"T_a11b0_row0_col2\" class=\"data row0 col2\" >5.97</td>\n",
              "    </tr>\n",
              "  </tbody>\n",
              "</table>\n"
            ]
          },
          "metadata": {}
        }
      ]
    },
    {
      "cell_type": "markdown",
      "source": [
        "#Tarefa 4: Estatísticas Descritivas e Correlação\n",
        "\n",
        "Para avançar com análises mais detalhadas, você precisa analisar como diversos fatores se relacionam com a qualidade do produto.\n",
        "\n",
        "🎯 Comece calculando a média e o desvio padrão para as seguintes colunas:\n",
        "\n",
        "*   pigment_quantity\n",
        "*   product_quality_score\n",
        "\n",
        "Essas estatísticas ajudam a entender a tendência central e a variabilidade dos dados relacionados à qualidade do produto.\n",
        "\n",
        "🎯 Em seguida, calcule o coeficiente de correlação de Pearson entre as variáveis:\n",
        "\n",
        "*   pigment_quantity\n",
        "*   product_quality_score\n",
        "\n",
        "🎯 Esse coeficiente indicará a força e direção da relação entre a quantidade de pigmento e a qualidade do produto final.\n",
        "\n",
        "*   Use os dados do arquivo production_data.csv.\n",
        "  *   Calcule os seguintes valores:\n",
        "  *   product_quality_score_mean\n",
        "  *   product_quality_score_sd\n",
        "  *   pigment_quantity_mean\n",
        "  *   pigment_quantity_sd\n",
        "  *   corr_coef\n",
        "*   O resultado deve ser um DataFrame chamado product_quality.\n",
        "*   Ele deve conter as colunas mencionadas acima.\n",
        "*   Todos os valores devem ser arredondados para 2 casas decimais."
      ],
      "metadata": {
        "id": "5GrIbZ89tG1R"
      }
    },
    {
      "cell_type": "code",
      "source": [
        "# Cálculo das estatísticas descritivas\n",
        "product_quality_score_mean = clean_data['product_quality_score'].mean()\n",
        "product_quality_score_sd = clean_data['product_quality_score'].std()\n",
        "pigment_quantity_mean = clean_data['pigment_quantity'].mean()\n",
        "pigment_quantity_sd = clean_data['pigment_quantity'].std()\n",
        "\n",
        "# Cálculo da correlação de Pearson\n",
        "corr_coef = clean_data['pigment_quantity'].corr(\n",
        "    clean_data['product_quality_score'], method='pearson'\n",
        ")\n",
        "\n",
        "# Montar DataFrame com os resultados\n",
        "product_quality = pd.DataFrame({\n",
        "    'product_quality_score_mean': [round(product_quality_score_mean, 2)],\n",
        "    'product_quality_score_sd': [round(product_quality_score_sd, 2)],\n",
        "    'pigment_quantity_mean': [round(pigment_quantity_mean, 2)],\n",
        "    'pigment_quantity_sd': [round(pigment_quantity_sd, 2)],\n",
        "    'corr_coef': [round(corr_coef, 2)]\n",
        "})\n",
        "\n",
        "# Exibir resultado de forma organizada\n",
        "from IPython.display import display\n",
        "\n",
        "display(product_quality.style\n",
        "        .format({\n",
        "            'product_quality_score_mean': '{:.2f}',\n",
        "            'product_quality_score_sd': '{:.2f}',\n",
        "            'pigment_quantity_mean': '{:.2f}',\n",
        "            'pigment_quantity_sd': '{:.2f}',\n",
        "            'corr_coef': '{:.2f}'\n",
        "        })\n",
        "        .set_caption(\"📈 Estatísticas e Correlação Entre Quantidade de Pigmento e Qualidade do Produto\"))\n",
        "\n"
      ],
      "metadata": {
        "colab": {
          "base_uri": "https://localhost:8080/",
          "height": 90
        },
        "id": "_8f13ZNnuBUe",
        "outputId": "686c777b-5ab7-4220-9064-1fe49440a650"
      },
      "execution_count": 13,
      "outputs": [
        {
          "output_type": "display_data",
          "data": {
            "text/plain": [
              "<pandas.io.formats.style.Styler at 0x7f3301d81a50>"
            ],
            "text/html": [
              "<style type=\"text/css\">\n",
              "</style>\n",
              "<table id=\"T_ae047\" class=\"dataframe\">\n",
              "  <caption>📈 Estatísticas e Correlação Entre Quantidade de Pigmento e Qualidade do Produto</caption>\n",
              "  <thead>\n",
              "    <tr>\n",
              "      <th class=\"blank level0\" >&nbsp;</th>\n",
              "      <th id=\"T_ae047_level0_col0\" class=\"col_heading level0 col0\" >product_quality_score_mean</th>\n",
              "      <th id=\"T_ae047_level0_col1\" class=\"col_heading level0 col1\" >product_quality_score_sd</th>\n",
              "      <th id=\"T_ae047_level0_col2\" class=\"col_heading level0 col2\" >pigment_quantity_mean</th>\n",
              "      <th id=\"T_ae047_level0_col3\" class=\"col_heading level0 col3\" >pigment_quantity_sd</th>\n",
              "      <th id=\"T_ae047_level0_col4\" class=\"col_heading level0 col4\" >corr_coef</th>\n",
              "    </tr>\n",
              "  </thead>\n",
              "  <tbody>\n",
              "    <tr>\n",
              "      <th id=\"T_ae047_level0_row0\" class=\"row_heading level0 row0\" >0</th>\n",
              "      <td id=\"T_ae047_row0_col0\" class=\"data row0 col0\" >6.68</td>\n",
              "      <td id=\"T_ae047_row0_col1\" class=\"data row0 col1\" >1.39</td>\n",
              "      <td id=\"T_ae047_row0_col2\" class=\"data row0 col2\" >38.35</td>\n",
              "      <td id=\"T_ae047_row0_col3\" class=\"data row0 col3\" >6.83</td>\n",
              "      <td id=\"T_ae047_row0_col4\" class=\"data row0 col4\" >0.49</td>\n",
              "    </tr>\n",
              "  </tbody>\n",
              "</table>\n"
            ]
          },
          "metadata": {}
        }
      ]
    }
  ]
}